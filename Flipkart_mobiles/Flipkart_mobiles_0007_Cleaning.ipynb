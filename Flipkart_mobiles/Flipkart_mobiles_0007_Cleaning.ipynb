{
 "cells": [
  {
   "cell_type": "code",
   "execution_count": 279,
   "metadata": {},
   "outputs": [],
   "source": [
    "#Importing necessary libraries\n",
    "import numpy as np\n",
    "import pandas as pd"
   ]
  },
  {
   "cell_type": "code",
   "execution_count": 280,
   "metadata": {},
   "outputs": [],
   "source": [
    "df=pd.read_csv('Fmobiles.csv')"
   ]
  },
  {
   "cell_type": "code",
   "execution_count": 281,
   "metadata": {},
   "outputs": [
    {
     "data": {
      "text/html": [
       "<div>\n",
       "<style scoped>\n",
       "    .dataframe tbody tr th:only-of-type {\n",
       "        vertical-align: middle;\n",
       "    }\n",
       "\n",
       "    .dataframe tbody tr th {\n",
       "        vertical-align: top;\n",
       "    }\n",
       "\n",
       "    .dataframe thead th {\n",
       "        text-align: right;\n",
       "    }\n",
       "</style>\n",
       "<table border=\"1\" class=\"dataframe\">\n",
       "  <thead>\n",
       "    <tr style=\"text-align: right;\">\n",
       "      <th></th>\n",
       "      <th>Unnamed: 0</th>\n",
       "      <th>BRAND</th>\n",
       "      <th>PRODUCT_NAME</th>\n",
       "      <th>COLOR</th>\n",
       "      <th>MEMORY</th>\n",
       "      <th>STAR_RATING</th>\n",
       "      <th>RATINGS</th>\n",
       "      <th>REVIEWS</th>\n",
       "      <th>RAM</th>\n",
       "      <th>BATTERY_C</th>\n",
       "      <th>SCREEN_SIZE</th>\n",
       "      <th>WARRANTY</th>\n",
       "      <th>OFFER_PRICE</th>\n",
       "      <th>DISCOUNT</th>\n",
       "      <th>MRP</th>\n",
       "    </tr>\n",
       "  </thead>\n",
       "  <tbody>\n",
       "    <tr>\n",
       "      <td>0</td>\n",
       "      <td>0</td>\n",
       "      <td>Redmi</td>\n",
       "      <td>8 (Onyx Black, 64 GB)</td>\n",
       "      <td>Onyx Black</td>\n",
       "      <td>64.0</td>\n",
       "      <td>4.4</td>\n",
       "      <td>4,61,522</td>\n",
       "      <td>38,510</td>\n",
       "      <td>4.0</td>\n",
       "      <td>5000</td>\n",
       "      <td>6.22</td>\n",
       "      <td>1.0</td>\n",
       "      <td>8999</td>\n",
       "      <td>18% off</td>\n",
       "      <td>10999</td>\n",
       "    </tr>\n",
       "    <tr>\n",
       "      <td>1</td>\n",
       "      <td>1</td>\n",
       "      <td>Realme</td>\n",
       "      <td>5i (Forest Green, 128 GB)</td>\n",
       "      <td>Forest Green</td>\n",
       "      <td>128.0</td>\n",
       "      <td>4.4</td>\n",
       "      <td>1,37,585</td>\n",
       "      <td>10,799</td>\n",
       "      <td>4.0</td>\n",
       "      <td>5000</td>\n",
       "      <td>6.52</td>\n",
       "      <td>1.0</td>\n",
       "      <td>10999</td>\n",
       "      <td>8% off</td>\n",
       "      <td>11999</td>\n",
       "    </tr>\n",
       "    <tr>\n",
       "      <td>2</td>\n",
       "      <td>2</td>\n",
       "      <td>Realme</td>\n",
       "      <td>C3 (Frozen Blue, 32 GB)</td>\n",
       "      <td>Frozen Blue</td>\n",
       "      <td>32.0</td>\n",
       "      <td>4.4</td>\n",
       "      <td>29,310</td>\n",
       "      <td>2,983</td>\n",
       "      <td>3.0</td>\n",
       "      <td>5000</td>\n",
       "      <td>6.52</td>\n",
       "      <td>1.0</td>\n",
       "      <td>7499</td>\n",
       "      <td>6% off</td>\n",
       "      <td>7999</td>\n",
       "    </tr>\n",
       "    <tr>\n",
       "      <td>3</td>\n",
       "      <td>3</td>\n",
       "      <td>Realme</td>\n",
       "      <td>C3 (Blazing Red, 32 GB)</td>\n",
       "      <td>Blazing Red</td>\n",
       "      <td>32.0</td>\n",
       "      <td>4.4</td>\n",
       "      <td>29,310</td>\n",
       "      <td>2,983</td>\n",
       "      <td>3.0</td>\n",
       "      <td>5000</td>\n",
       "      <td>6.52</td>\n",
       "      <td>1.0</td>\n",
       "      <td>7499</td>\n",
       "      <td>6% off</td>\n",
       "      <td>7999</td>\n",
       "    </tr>\n",
       "    <tr>\n",
       "      <td>4</td>\n",
       "      <td>4</td>\n",
       "      <td>Realme</td>\n",
       "      <td>5i (Forest Green, 64 GB)</td>\n",
       "      <td>Forest Green</td>\n",
       "      <td>64.0</td>\n",
       "      <td>4.4</td>\n",
       "      <td>1,37,585</td>\n",
       "      <td>10,799</td>\n",
       "      <td>4.0</td>\n",
       "      <td>5000</td>\n",
       "      <td>6.52</td>\n",
       "      <td>1.0</td>\n",
       "      <td>9999</td>\n",
       "      <td>9% off</td>\n",
       "      <td>10999</td>\n",
       "    </tr>\n",
       "  </tbody>\n",
       "</table>\n",
       "</div>"
      ],
      "text/plain": [
       "   Unnamed: 0   BRAND                PRODUCT_NAME         COLOR  MEMORY  \\\n",
       "0           0   Redmi       8 (Onyx Black, 64 GB)    Onyx Black    64.0   \n",
       "1           1  Realme   5i (Forest Green, 128 GB)  Forest Green   128.0   \n",
       "2           2  Realme     C3 (Frozen Blue, 32 GB)   Frozen Blue    32.0   \n",
       "3           3  Realme     C3 (Blazing Red, 32 GB)   Blazing Red    32.0   \n",
       "4           4  Realme    5i (Forest Green, 64 GB)  Forest Green    64.0   \n",
       "\n",
       "   STAR_RATING   RATINGS REVIEWS  RAM  BATTERY_C  SCREEN_SIZE  WARRANTY  \\\n",
       "0          4.4  4,61,522  38,510  4.0       5000         6.22       1.0   \n",
       "1          4.4  1,37,585  10,799  4.0       5000         6.52       1.0   \n",
       "2          4.4    29,310   2,983  3.0       5000         6.52       1.0   \n",
       "3          4.4    29,310   2,983  3.0       5000         6.52       1.0   \n",
       "4          4.4  1,37,585  10,799  4.0       5000         6.52       1.0   \n",
       "\n",
       "   OFFER_PRICE DISCOUNT    MRP  \n",
       "0         8999  18% off  10999  \n",
       "1        10999   8% off  11999  \n",
       "2         7499   6% off   7999  \n",
       "3         7499   6% off   7999  \n",
       "4         9999   9% off  10999  "
      ]
     },
     "execution_count": 281,
     "metadata": {},
     "output_type": "execute_result"
    }
   ],
   "source": [
    "df.head()"
   ]
  },
  {
   "cell_type": "markdown",
   "metadata": {},
   "source": [
    "We observe that all the columns of the object datatype. We have to change some of them in to numeric datatypes.\n",
    "\n",
    "- Columns to be changed: \n",
    " `MEMORY`,`STAR_RATING`,`RATINGS`,`REVIEWS`,`RAM`,`BATTERY_C`,`SCREEN_SIZE`,`OFFER_PRICE`,`DISCOUNT`,`MRP`"
   ]
  },
  {
   "cell_type": "code",
   "execution_count": 282,
   "metadata": {},
   "outputs": [],
   "source": [
    "df['OFFER_PRICE']=df['OFFER_PRICE'].astype(int)"
   ]
  },
  {
   "cell_type": "code",
   "execution_count": 283,
   "metadata": {},
   "outputs": [],
   "source": [
    "df['MRP']=df['MRP'].astype(int)"
   ]
  },
  {
   "cell_type": "markdown",
   "metadata": {},
   "source": [
    "### Observations\n",
    "Offerprice and Mrp can be converted to int type where there are no null values and there are no float values"
   ]
  },
  {
   "cell_type": "code",
   "execution_count": 284,
   "metadata": {},
   "outputs": [],
   "source": [
    "df['REVIEWS']=df['REVIEWS'].str.replace(',','').astype(float)"
   ]
  },
  {
   "cell_type": "code",
   "execution_count": 285,
   "metadata": {},
   "outputs": [],
   "source": [
    "df['MEMORY']=df['MEMORY'].astype(float)"
   ]
  },
  {
   "cell_type": "code",
   "execution_count": 286,
   "metadata": {},
   "outputs": [],
   "source": [
    "df['RATINGS']=df['RATINGS'].str.replace(',','').astype(float)"
   ]
  },
  {
   "cell_type": "code",
   "execution_count": 287,
   "metadata": {},
   "outputs": [],
   "source": [
    "df['RAM']=df['RAM'].astype(float)"
   ]
  },
  {
   "cell_type": "code",
   "execution_count": 288,
   "metadata": {},
   "outputs": [],
   "source": [
    "df['BATTERY_C']=df['BATTERY_C'].astype(float)"
   ]
  },
  {
   "cell_type": "code",
   "execution_count": 289,
   "metadata": {},
   "outputs": [],
   "source": [
    "df['STAR_RATING']=df['STAR_RATING'].astype(float)"
   ]
  },
  {
   "cell_type": "code",
   "execution_count": 290,
   "metadata": {},
   "outputs": [],
   "source": [
    "df['SCREEN_SIZE']=df['SCREEN_SIZE'].astype(float)"
   ]
  },
  {
   "cell_type": "code",
   "execution_count": 291,
   "metadata": {},
   "outputs": [],
   "source": [
    "df['WARRANTY']=df['WARRANTY'].astype(float)"
   ]
  },
  {
   "cell_type": "markdown",
   "metadata": {},
   "source": [
    "### Observations:\n",
    "`Reviews`,`Ratings`,`Ram`,`Battery_c`,`Star_Rating`,`Screen size`,`Warranty`, are containing nan values.Where nan is float valriable so need to convert them to float values"
   ]
  },
  {
   "cell_type": "code",
   "execution_count": 292,
   "metadata": {},
   "outputs": [
    {
     "name": "stdout",
     "output_type": "stream",
     "text": [
      "<class 'pandas.core.frame.DataFrame'>\n",
      "RangeIndex: 720 entries, 0 to 719\n",
      "Data columns (total 15 columns):\n",
      "Unnamed: 0      720 non-null int64\n",
      "BRAND           720 non-null object\n",
      "PRODUCT_NAME    720 non-null object\n",
      "COLOR           362 non-null object\n",
      "MEMORY          356 non-null float64\n",
      "STAR_RATING     704 non-null float64\n",
      "RATINGS         402 non-null float64\n",
      "REVIEWS         227 non-null float64\n",
      "RAM             317 non-null float64\n",
      "BATTERY_C       720 non-null float64\n",
      "SCREEN_SIZE     675 non-null float64\n",
      "WARRANTY        583 non-null float64\n",
      "OFFER_PRICE     720 non-null int32\n",
      "DISCOUNT        720 non-null object\n",
      "MRP             720 non-null int32\n",
      "dtypes: float64(8), int32(2), int64(1), object(4)\n",
      "memory usage: 78.9+ KB\n"
     ]
    }
   ],
   "source": [
    "df.info()"
   ]
  },
  {
   "cell_type": "code",
   "execution_count": 293,
   "metadata": {},
   "outputs": [
    {
     "data": {
      "text/html": [
       "<div>\n",
       "<style scoped>\n",
       "    .dataframe tbody tr th:only-of-type {\n",
       "        vertical-align: middle;\n",
       "    }\n",
       "\n",
       "    .dataframe tbody tr th {\n",
       "        vertical-align: top;\n",
       "    }\n",
       "\n",
       "    .dataframe thead th {\n",
       "        text-align: right;\n",
       "    }\n",
       "</style>\n",
       "<table border=\"1\" class=\"dataframe\">\n",
       "  <thead>\n",
       "    <tr style=\"text-align: right;\">\n",
       "      <th></th>\n",
       "      <th>BRAND</th>\n",
       "      <th>PRODUCT_NAME</th>\n",
       "      <th>COLOR</th>\n",
       "      <th>MEMORY</th>\n",
       "      <th>STAR_RATING</th>\n",
       "      <th>RATINGS</th>\n",
       "      <th>REVIEWS</th>\n",
       "      <th>RAM</th>\n",
       "      <th>BATTERY_C</th>\n",
       "      <th>SCREEN_SIZE</th>\n",
       "      <th>WARRANTY</th>\n",
       "      <th>OFFER_PRICE</th>\n",
       "      <th>DISCOUNT</th>\n",
       "      <th>MRP</th>\n",
       "    </tr>\n",
       "  </thead>\n",
       "  <tbody>\n",
       "    <tr>\n",
       "      <td>0</td>\n",
       "      <td>Redmi</td>\n",
       "      <td>8 (Onyx Black, 64 GB)</td>\n",
       "      <td>Onyx Black</td>\n",
       "      <td>64.0</td>\n",
       "      <td>4.4</td>\n",
       "      <td>461522.0</td>\n",
       "      <td>38510.0</td>\n",
       "      <td>4.0</td>\n",
       "      <td>5000.0</td>\n",
       "      <td>6.22</td>\n",
       "      <td>1.0</td>\n",
       "      <td>8999</td>\n",
       "      <td>18% off</td>\n",
       "      <td>10999</td>\n",
       "    </tr>\n",
       "    <tr>\n",
       "      <td>1</td>\n",
       "      <td>Realme</td>\n",
       "      <td>5i (Forest Green, 128 GB)</td>\n",
       "      <td>Forest Green</td>\n",
       "      <td>128.0</td>\n",
       "      <td>4.4</td>\n",
       "      <td>137585.0</td>\n",
       "      <td>10799.0</td>\n",
       "      <td>4.0</td>\n",
       "      <td>5000.0</td>\n",
       "      <td>6.52</td>\n",
       "      <td>1.0</td>\n",
       "      <td>10999</td>\n",
       "      <td>8% off</td>\n",
       "      <td>11999</td>\n",
       "    </tr>\n",
       "    <tr>\n",
       "      <td>2</td>\n",
       "      <td>Realme</td>\n",
       "      <td>C3 (Frozen Blue, 32 GB)</td>\n",
       "      <td>Frozen Blue</td>\n",
       "      <td>32.0</td>\n",
       "      <td>4.4</td>\n",
       "      <td>29310.0</td>\n",
       "      <td>2983.0</td>\n",
       "      <td>3.0</td>\n",
       "      <td>5000.0</td>\n",
       "      <td>6.52</td>\n",
       "      <td>1.0</td>\n",
       "      <td>7499</td>\n",
       "      <td>6% off</td>\n",
       "      <td>7999</td>\n",
       "    </tr>\n",
       "    <tr>\n",
       "      <td>3</td>\n",
       "      <td>Realme</td>\n",
       "      <td>C3 (Blazing Red, 32 GB)</td>\n",
       "      <td>Blazing Red</td>\n",
       "      <td>32.0</td>\n",
       "      <td>4.4</td>\n",
       "      <td>29310.0</td>\n",
       "      <td>2983.0</td>\n",
       "      <td>3.0</td>\n",
       "      <td>5000.0</td>\n",
       "      <td>6.52</td>\n",
       "      <td>1.0</td>\n",
       "      <td>7499</td>\n",
       "      <td>6% off</td>\n",
       "      <td>7999</td>\n",
       "    </tr>\n",
       "    <tr>\n",
       "      <td>4</td>\n",
       "      <td>Realme</td>\n",
       "      <td>5i (Forest Green, 64 GB)</td>\n",
       "      <td>Forest Green</td>\n",
       "      <td>64.0</td>\n",
       "      <td>4.4</td>\n",
       "      <td>137585.0</td>\n",
       "      <td>10799.0</td>\n",
       "      <td>4.0</td>\n",
       "      <td>5000.0</td>\n",
       "      <td>6.52</td>\n",
       "      <td>1.0</td>\n",
       "      <td>9999</td>\n",
       "      <td>9% off</td>\n",
       "      <td>10999</td>\n",
       "    </tr>\n",
       "  </tbody>\n",
       "</table>\n",
       "</div>"
      ],
      "text/plain": [
       "    BRAND                PRODUCT_NAME         COLOR  MEMORY  STAR_RATING  \\\n",
       "0   Redmi       8 (Onyx Black, 64 GB)    Onyx Black    64.0          4.4   \n",
       "1  Realme   5i (Forest Green, 128 GB)  Forest Green   128.0          4.4   \n",
       "2  Realme     C3 (Frozen Blue, 32 GB)   Frozen Blue    32.0          4.4   \n",
       "3  Realme     C3 (Blazing Red, 32 GB)   Blazing Red    32.0          4.4   \n",
       "4  Realme    5i (Forest Green, 64 GB)  Forest Green    64.0          4.4   \n",
       "\n",
       "    RATINGS  REVIEWS  RAM  BATTERY_C  SCREEN_SIZE  WARRANTY  OFFER_PRICE  \\\n",
       "0  461522.0  38510.0  4.0     5000.0         6.22       1.0         8999   \n",
       "1  137585.0  10799.0  4.0     5000.0         6.52       1.0        10999   \n",
       "2   29310.0   2983.0  3.0     5000.0         6.52       1.0         7499   \n",
       "3   29310.0   2983.0  3.0     5000.0         6.52       1.0         7499   \n",
       "4  137585.0  10799.0  4.0     5000.0         6.52       1.0         9999   \n",
       "\n",
       "  DISCOUNT    MRP  \n",
       "0  18% off  10999  \n",
       "1   8% off  11999  \n",
       "2   6% off   7999  \n",
       "3   6% off   7999  \n",
       "4   9% off  10999  "
      ]
     },
     "execution_count": 293,
     "metadata": {},
     "output_type": "execute_result"
    }
   ],
   "source": [
    "df.drop(axis=1,columns=['Unnamed: 0'],inplace=True)\n",
    "df.head()"
   ]
  },
  {
   "cell_type": "markdown",
   "metadata": {},
   "source": [
    "#### Observations:\n",
    "\n",
    "- While import the CSV file we found that index column is added to dataframe.\n",
    "- We drop the unnamed column us drop() method.\n"
   ]
  },
  {
   "cell_type": "code",
   "execution_count": 294,
   "metadata": {},
   "outputs": [
    {
     "name": "stdout",
     "output_type": "stream",
     "text": [
      "<class 'pandas.core.frame.DataFrame'>\n",
      "RangeIndex: 720 entries, 0 to 719\n",
      "Data columns (total 14 columns):\n",
      "BRAND           720 non-null object\n",
      "PRODUCT_NAME    720 non-null object\n",
      "COLOR           362 non-null object\n",
      "MEMORY          356 non-null float64\n",
      "STAR_RATING     704 non-null float64\n",
      "RATINGS         402 non-null float64\n",
      "REVIEWS         227 non-null float64\n",
      "RAM             317 non-null float64\n",
      "BATTERY_C       720 non-null float64\n",
      "SCREEN_SIZE     675 non-null float64\n",
      "WARRANTY        583 non-null float64\n",
      "OFFER_PRICE     720 non-null int32\n",
      "DISCOUNT        720 non-null object\n",
      "MRP             720 non-null int32\n",
      "dtypes: float64(8), int32(2), object(4)\n",
      "memory usage: 73.2+ KB\n"
     ]
    }
   ],
   "source": [
    "df.info()"
   ]
  },
  {
   "cell_type": "code",
   "execution_count": 295,
   "metadata": {},
   "outputs": [
    {
     "data": {
      "text/html": [
       "<div>\n",
       "<style scoped>\n",
       "    .dataframe tbody tr th:only-of-type {\n",
       "        vertical-align: middle;\n",
       "    }\n",
       "\n",
       "    .dataframe tbody tr th {\n",
       "        vertical-align: top;\n",
       "    }\n",
       "\n",
       "    .dataframe thead th {\n",
       "        text-align: right;\n",
       "    }\n",
       "</style>\n",
       "<table border=\"1\" class=\"dataframe\">\n",
       "  <thead>\n",
       "    <tr style=\"text-align: right;\">\n",
       "      <th></th>\n",
       "      <th>BRAND</th>\n",
       "      <th>PRODUCT_NAME</th>\n",
       "      <th>COLOR</th>\n",
       "      <th>MEMORY</th>\n",
       "      <th>STAR_RATING</th>\n",
       "      <th>RATINGS</th>\n",
       "      <th>REVIEWS</th>\n",
       "      <th>RAM</th>\n",
       "      <th>BATTERY_C</th>\n",
       "      <th>SCREEN_SIZE</th>\n",
       "      <th>WARRANTY</th>\n",
       "      <th>OFFER_PRICE</th>\n",
       "      <th>DISCOUNT</th>\n",
       "      <th>MRP</th>\n",
       "    </tr>\n",
       "  </thead>\n",
       "  <tbody>\n",
       "    <tr>\n",
       "      <td>0</td>\n",
       "      <td>False</td>\n",
       "      <td>False</td>\n",
       "      <td>False</td>\n",
       "      <td>False</td>\n",
       "      <td>False</td>\n",
       "      <td>False</td>\n",
       "      <td>False</td>\n",
       "      <td>False</td>\n",
       "      <td>False</td>\n",
       "      <td>False</td>\n",
       "      <td>False</td>\n",
       "      <td>False</td>\n",
       "      <td>False</td>\n",
       "      <td>False</td>\n",
       "    </tr>\n",
       "    <tr>\n",
       "      <td>1</td>\n",
       "      <td>False</td>\n",
       "      <td>False</td>\n",
       "      <td>False</td>\n",
       "      <td>False</td>\n",
       "      <td>False</td>\n",
       "      <td>False</td>\n",
       "      <td>False</td>\n",
       "      <td>False</td>\n",
       "      <td>False</td>\n",
       "      <td>False</td>\n",
       "      <td>False</td>\n",
       "      <td>False</td>\n",
       "      <td>False</td>\n",
       "      <td>False</td>\n",
       "    </tr>\n",
       "    <tr>\n",
       "      <td>2</td>\n",
       "      <td>False</td>\n",
       "      <td>False</td>\n",
       "      <td>False</td>\n",
       "      <td>False</td>\n",
       "      <td>False</td>\n",
       "      <td>False</td>\n",
       "      <td>False</td>\n",
       "      <td>False</td>\n",
       "      <td>False</td>\n",
       "      <td>False</td>\n",
       "      <td>False</td>\n",
       "      <td>False</td>\n",
       "      <td>False</td>\n",
       "      <td>False</td>\n",
       "    </tr>\n",
       "    <tr>\n",
       "      <td>3</td>\n",
       "      <td>False</td>\n",
       "      <td>False</td>\n",
       "      <td>False</td>\n",
       "      <td>False</td>\n",
       "      <td>False</td>\n",
       "      <td>False</td>\n",
       "      <td>False</td>\n",
       "      <td>False</td>\n",
       "      <td>False</td>\n",
       "      <td>False</td>\n",
       "      <td>False</td>\n",
       "      <td>False</td>\n",
       "      <td>False</td>\n",
       "      <td>False</td>\n",
       "    </tr>\n",
       "    <tr>\n",
       "      <td>4</td>\n",
       "      <td>False</td>\n",
       "      <td>False</td>\n",
       "      <td>False</td>\n",
       "      <td>False</td>\n",
       "      <td>False</td>\n",
       "      <td>False</td>\n",
       "      <td>False</td>\n",
       "      <td>False</td>\n",
       "      <td>False</td>\n",
       "      <td>False</td>\n",
       "      <td>False</td>\n",
       "      <td>False</td>\n",
       "      <td>False</td>\n",
       "      <td>False</td>\n",
       "    </tr>\n",
       "    <tr>\n",
       "      <td>...</td>\n",
       "      <td>...</td>\n",
       "      <td>...</td>\n",
       "      <td>...</td>\n",
       "      <td>...</td>\n",
       "      <td>...</td>\n",
       "      <td>...</td>\n",
       "      <td>...</td>\n",
       "      <td>...</td>\n",
       "      <td>...</td>\n",
       "      <td>...</td>\n",
       "      <td>...</td>\n",
       "      <td>...</td>\n",
       "      <td>...</td>\n",
       "      <td>...</td>\n",
       "    </tr>\n",
       "    <tr>\n",
       "      <td>715</td>\n",
       "      <td>False</td>\n",
       "      <td>False</td>\n",
       "      <td>True</td>\n",
       "      <td>True</td>\n",
       "      <td>False</td>\n",
       "      <td>True</td>\n",
       "      <td>True</td>\n",
       "      <td>True</td>\n",
       "      <td>False</td>\n",
       "      <td>False</td>\n",
       "      <td>False</td>\n",
       "      <td>False</td>\n",
       "      <td>False</td>\n",
       "      <td>False</td>\n",
       "    </tr>\n",
       "    <tr>\n",
       "      <td>716</td>\n",
       "      <td>False</td>\n",
       "      <td>False</td>\n",
       "      <td>True</td>\n",
       "      <td>True</td>\n",
       "      <td>False</td>\n",
       "      <td>True</td>\n",
       "      <td>True</td>\n",
       "      <td>True</td>\n",
       "      <td>False</td>\n",
       "      <td>False</td>\n",
       "      <td>False</td>\n",
       "      <td>False</td>\n",
       "      <td>False</td>\n",
       "      <td>False</td>\n",
       "    </tr>\n",
       "    <tr>\n",
       "      <td>717</td>\n",
       "      <td>False</td>\n",
       "      <td>False</td>\n",
       "      <td>True</td>\n",
       "      <td>True</td>\n",
       "      <td>False</td>\n",
       "      <td>True</td>\n",
       "      <td>True</td>\n",
       "      <td>True</td>\n",
       "      <td>False</td>\n",
       "      <td>False</td>\n",
       "      <td>False</td>\n",
       "      <td>False</td>\n",
       "      <td>False</td>\n",
       "      <td>False</td>\n",
       "    </tr>\n",
       "    <tr>\n",
       "      <td>718</td>\n",
       "      <td>False</td>\n",
       "      <td>False</td>\n",
       "      <td>True</td>\n",
       "      <td>True</td>\n",
       "      <td>False</td>\n",
       "      <td>True</td>\n",
       "      <td>True</td>\n",
       "      <td>True</td>\n",
       "      <td>False</td>\n",
       "      <td>False</td>\n",
       "      <td>False</td>\n",
       "      <td>False</td>\n",
       "      <td>False</td>\n",
       "      <td>False</td>\n",
       "    </tr>\n",
       "    <tr>\n",
       "      <td>719</td>\n",
       "      <td>False</td>\n",
       "      <td>False</td>\n",
       "      <td>True</td>\n",
       "      <td>True</td>\n",
       "      <td>False</td>\n",
       "      <td>True</td>\n",
       "      <td>True</td>\n",
       "      <td>True</td>\n",
       "      <td>False</td>\n",
       "      <td>False</td>\n",
       "      <td>False</td>\n",
       "      <td>False</td>\n",
       "      <td>False</td>\n",
       "      <td>False</td>\n",
       "    </tr>\n",
       "  </tbody>\n",
       "</table>\n",
       "<p>720 rows × 14 columns</p>\n",
       "</div>"
      ],
      "text/plain": [
       "     BRAND  PRODUCT_NAME  COLOR  MEMORY  STAR_RATING  RATINGS  REVIEWS    RAM  \\\n",
       "0    False         False  False   False        False    False    False  False   \n",
       "1    False         False  False   False        False    False    False  False   \n",
       "2    False         False  False   False        False    False    False  False   \n",
       "3    False         False  False   False        False    False    False  False   \n",
       "4    False         False  False   False        False    False    False  False   \n",
       "..     ...           ...    ...     ...          ...      ...      ...    ...   \n",
       "715  False         False   True    True        False     True     True   True   \n",
       "716  False         False   True    True        False     True     True   True   \n",
       "717  False         False   True    True        False     True     True   True   \n",
       "718  False         False   True    True        False     True     True   True   \n",
       "719  False         False   True    True        False     True     True   True   \n",
       "\n",
       "     BATTERY_C  SCREEN_SIZE  WARRANTY  OFFER_PRICE  DISCOUNT    MRP  \n",
       "0        False        False     False        False     False  False  \n",
       "1        False        False     False        False     False  False  \n",
       "2        False        False     False        False     False  False  \n",
       "3        False        False     False        False     False  False  \n",
       "4        False        False     False        False     False  False  \n",
       "..         ...          ...       ...          ...       ...    ...  \n",
       "715      False        False     False        False     False  False  \n",
       "716      False        False     False        False     False  False  \n",
       "717      False        False     False        False     False  False  \n",
       "718      False        False     False        False     False  False  \n",
       "719      False        False     False        False     False  False  \n",
       "\n",
       "[720 rows x 14 columns]"
      ]
     },
     "execution_count": 295,
     "metadata": {},
     "output_type": "execute_result"
    }
   ],
   "source": [
    "# Finding the null values:\n",
    "df.isnull()"
   ]
  },
  {
   "cell_type": "code",
   "execution_count": 296,
   "metadata": {},
   "outputs": [
    {
     "data": {
      "text/plain": [
       "BRAND             0\n",
       "PRODUCT_NAME      0\n",
       "COLOR           358\n",
       "MEMORY          364\n",
       "STAR_RATING      16\n",
       "RATINGS         318\n",
       "REVIEWS         493\n",
       "RAM             403\n",
       "BATTERY_C         0\n",
       "SCREEN_SIZE      45\n",
       "WARRANTY        137\n",
       "OFFER_PRICE       0\n",
       "DISCOUNT          0\n",
       "MRP               0\n",
       "dtype: int64"
      ]
     },
     "execution_count": 296,
     "metadata": {},
     "output_type": "execute_result"
    }
   ],
   "source": [
    "#To know the total values which are missing in the dataframe,column wise\n",
    "df.isnull().sum()"
   ]
  },
  {
   "cell_type": "code",
   "execution_count": 297,
   "metadata": {},
   "outputs": [
    {
     "data": {
      "text/plain": [
       "BRAND            0.000000\n",
       "PRODUCT_NAME     0.000000\n",
       "COLOR           49.722222\n",
       "MEMORY          50.555556\n",
       "STAR_RATING      2.222222\n",
       "RATINGS         44.166667\n",
       "REVIEWS         68.472222\n",
       "RAM             55.972222\n",
       "BATTERY_C        0.000000\n",
       "SCREEN_SIZE      6.250000\n",
       "WARRANTY        19.027778\n",
       "OFFER_PRICE      0.000000\n",
       "DISCOUNT         0.000000\n",
       "MRP              0.000000\n",
       "dtype: float64"
      ]
     },
     "execution_count": 297,
     "metadata": {},
     "output_type": "execute_result"
    }
   ],
   "source": [
    "#Checking for the total no of missing values \n",
    "((df.isnull().sum())/len(df))*100\n",
    "\n"
   ]
  },
  {
   "cell_type": "markdown",
   "metadata": {},
   "source": [
    "### Product name:"
   ]
  },
  {
   "cell_type": "code",
   "execution_count": 298,
   "metadata": {},
   "outputs": [
    {
     "name": "stdout",
     "output_type": "stream",
     "text": [
      "<class 'pandas.core.frame.DataFrame'>\n",
      "Int64Index: 720 entries, 0 to 719\n",
      "Data columns (total 14 columns):\n",
      "BRAND           720 non-null object\n",
      "PRODUCT_NAME    720 non-null object\n",
      "COLOR           362 non-null object\n",
      "MEMORY          356 non-null float64\n",
      "STAR_RATING     704 non-null float64\n",
      "RATINGS         402 non-null float64\n",
      "REVIEWS         227 non-null float64\n",
      "RAM             317 non-null float64\n",
      "BATTERY_C       720 non-null float64\n",
      "SCREEN_SIZE     675 non-null float64\n",
      "WARRANTY        583 non-null float64\n",
      "OFFER_PRICE     720 non-null int32\n",
      "DISCOUNT        720 non-null object\n",
      "MRP             720 non-null int32\n",
      "dtypes: float64(8), int32(2), object(4)\n",
      "memory usage: 78.8+ KB\n"
     ]
    }
   ],
   "source": [
    "df.dropna(inplace=True,subset=['PRODUCT_NAME'])\n",
    "df.info()"
   ]
  },
  {
   "cell_type": "markdown",
   "metadata": {},
   "source": [
    "#### Observations\n",
    "Since Product name  is unique,replacing it with some value doesn't make right so we drop it\n"
   ]
  },
  {
   "cell_type": "code",
   "execution_count": 299,
   "metadata": {},
   "outputs": [
    {
     "data": {
      "text/plain": [
       "1.0"
      ]
     },
     "execution_count": 299,
     "metadata": {},
     "output_type": "execute_result"
    }
   ],
   "source": [
    "df['WARRANTY'].value_counts().index[0]"
   ]
  },
  {
   "cell_type": "markdown",
   "metadata": {},
   "source": [
    "#### Warranty"
   ]
  },
  {
   "cell_type": "code",
   "execution_count": 300,
   "metadata": {},
   "outputs": [],
   "source": [
    "df['WARRANTY'].fillna(df['WARRANTY'].value_counts().index[0],inplace=True)"
   ]
  },
  {
   "cell_type": "markdown",
   "metadata": {},
   "source": [
    "#### Observations:\n",
    "- Let's impute Warranty with the most frequently occuring value.\n",
    "- Because warranty is containg less no. of missing values and max. mobiles are have min warranty so we are filling the data with the most frequently occuring value.\n"
   ]
  },
  {
   "cell_type": "code",
   "execution_count": 301,
   "metadata": {},
   "outputs": [
    {
     "data": {
      "text/html": [
       "<div>\n",
       "<style scoped>\n",
       "    .dataframe tbody tr th:only-of-type {\n",
       "        vertical-align: middle;\n",
       "    }\n",
       "\n",
       "    .dataframe tbody tr th {\n",
       "        vertical-align: top;\n",
       "    }\n",
       "\n",
       "    .dataframe thead th {\n",
       "        text-align: right;\n",
       "    }\n",
       "</style>\n",
       "<table border=\"1\" class=\"dataframe\">\n",
       "  <thead>\n",
       "    <tr style=\"text-align: right;\">\n",
       "      <th></th>\n",
       "      <th>MEMORY</th>\n",
       "      <th>STAR_RATING</th>\n",
       "      <th>RATINGS</th>\n",
       "      <th>REVIEWS</th>\n",
       "      <th>RAM</th>\n",
       "      <th>BATTERY_C</th>\n",
       "      <th>SCREEN_SIZE</th>\n",
       "      <th>WARRANTY</th>\n",
       "      <th>OFFER_PRICE</th>\n",
       "      <th>MRP</th>\n",
       "    </tr>\n",
       "  </thead>\n",
       "  <tbody>\n",
       "    <tr>\n",
       "      <td>count</td>\n",
       "      <td>356.000000</td>\n",
       "      <td>704.000000</td>\n",
       "      <td>402.000000</td>\n",
       "      <td>227.000000</td>\n",
       "      <td>317.000000</td>\n",
       "      <td>720.000000</td>\n",
       "      <td>675.000000</td>\n",
       "      <td>720.000000</td>\n",
       "      <td>720.000000</td>\n",
       "      <td>720.000000</td>\n",
       "    </tr>\n",
       "    <tr>\n",
       "      <td>mean</td>\n",
       "      <td>79.573034</td>\n",
       "      <td>4.057670</td>\n",
       "      <td>71510.497512</td>\n",
       "      <td>11932.400881</td>\n",
       "      <td>4.233438</td>\n",
       "      <td>2392.368056</td>\n",
       "      <td>4.025985</td>\n",
       "      <td>1.008333</td>\n",
       "      <td>10351.905556</td>\n",
       "      <td>12027.861111</td>\n",
       "    </tr>\n",
       "    <tr>\n",
       "      <td>std</td>\n",
       "      <td>81.315229</td>\n",
       "      <td>0.410458</td>\n",
       "      <td>133606.129346</td>\n",
       "      <td>14528.218317</td>\n",
       "      <td>2.000574</td>\n",
       "      <td>1486.530408</td>\n",
       "      <td>2.081404</td>\n",
       "      <td>0.090969</td>\n",
       "      <td>19364.732019</td>\n",
       "      <td>20708.778102</td>\n",
       "    </tr>\n",
       "    <tr>\n",
       "      <td>min</td>\n",
       "      <td>0.000000</td>\n",
       "      <td>1.000000</td>\n",
       "      <td>1129.000000</td>\n",
       "      <td>1003.000000</td>\n",
       "      <td>1.000000</td>\n",
       "      <td>0.000000</td>\n",
       "      <td>0.660000</td>\n",
       "      <td>1.000000</td>\n",
       "      <td>499.000000</td>\n",
       "      <td>539.000000</td>\n",
       "    </tr>\n",
       "    <tr>\n",
       "      <td>25%</td>\n",
       "      <td>32.000000</td>\n",
       "      <td>3.800000</td>\n",
       "      <td>4008.000000</td>\n",
       "      <td>2031.000000</td>\n",
       "      <td>3.000000</td>\n",
       "      <td>1000.000000</td>\n",
       "      <td>1.800000</td>\n",
       "      <td>1.000000</td>\n",
       "      <td>959.000000</td>\n",
       "      <td>1099.000000</td>\n",
       "    </tr>\n",
       "    <tr>\n",
       "      <td>50%</td>\n",
       "      <td>64.000000</td>\n",
       "      <td>4.100000</td>\n",
       "      <td>12751.500000</td>\n",
       "      <td>6707.000000</td>\n",
       "      <td>4.000000</td>\n",
       "      <td>2000.000000</td>\n",
       "      <td>2.800000</td>\n",
       "      <td>1.000000</td>\n",
       "      <td>2674.500000</td>\n",
       "      <td>2949.000000</td>\n",
       "    </tr>\n",
       "    <tr>\n",
       "      <td>75%</td>\n",
       "      <td>128.000000</td>\n",
       "      <td>4.400000</td>\n",
       "      <td>72701.000000</td>\n",
       "      <td>14204.000000</td>\n",
       "      <td>6.000000</td>\n",
       "      <td>4000.000000</td>\n",
       "      <td>6.220000</td>\n",
       "      <td>1.000000</td>\n",
       "      <td>11410.000000</td>\n",
       "      <td>14999.000000</td>\n",
       "    </tr>\n",
       "    <tr>\n",
       "      <td>max</td>\n",
       "      <td>512.000000</td>\n",
       "      <td>4.800000</td>\n",
       "      <td>783395.000000</td>\n",
       "      <td>69216.000000</td>\n",
       "      <td>12.000000</td>\n",
       "      <td>6000.000000</td>\n",
       "      <td>6.700000</td>\n",
       "      <td>2.000000</td>\n",
       "      <td>150800.000000</td>\n",
       "      <td>150800.000000</td>\n",
       "    </tr>\n",
       "  </tbody>\n",
       "</table>\n",
       "</div>"
      ],
      "text/plain": [
       "           MEMORY  STAR_RATING        RATINGS       REVIEWS         RAM  \\\n",
       "count  356.000000   704.000000     402.000000    227.000000  317.000000   \n",
       "mean    79.573034     4.057670   71510.497512  11932.400881    4.233438   \n",
       "std     81.315229     0.410458  133606.129346  14528.218317    2.000574   \n",
       "min      0.000000     1.000000    1129.000000   1003.000000    1.000000   \n",
       "25%     32.000000     3.800000    4008.000000   2031.000000    3.000000   \n",
       "50%     64.000000     4.100000   12751.500000   6707.000000    4.000000   \n",
       "75%    128.000000     4.400000   72701.000000  14204.000000    6.000000   \n",
       "max    512.000000     4.800000  783395.000000  69216.000000   12.000000   \n",
       "\n",
       "         BATTERY_C  SCREEN_SIZE    WARRANTY    OFFER_PRICE            MRP  \n",
       "count   720.000000   675.000000  720.000000     720.000000     720.000000  \n",
       "mean   2392.368056     4.025985    1.008333   10351.905556   12027.861111  \n",
       "std    1486.530408     2.081404    0.090969   19364.732019   20708.778102  \n",
       "min       0.000000     0.660000    1.000000     499.000000     539.000000  \n",
       "25%    1000.000000     1.800000    1.000000     959.000000    1099.000000  \n",
       "50%    2000.000000     2.800000    1.000000    2674.500000    2949.000000  \n",
       "75%    4000.000000     6.220000    1.000000   11410.000000   14999.000000  \n",
       "max    6000.000000     6.700000    2.000000  150800.000000  150800.000000  "
      ]
     },
     "execution_count": 301,
     "metadata": {},
     "output_type": "execute_result"
    }
   ],
   "source": [
    "df.describe()"
   ]
  },
  {
   "cell_type": "markdown",
   "metadata": {},
   "source": [
    "### STAR_RATING"
   ]
  },
  {
   "cell_type": "code",
   "execution_count": 302,
   "metadata": {},
   "outputs": [],
   "source": [
    "df['STAR_RATING']=df['STAR_RATING'].fillna(0)"
   ]
  },
  {
   "cell_type": "markdown",
   "metadata": {},
   "source": [
    "#### Observations:\n",
    "- Since some mobiles are not having star rating that means those were not rated yet.\n",
    "- We can assume zero rating rather than deleting the column"
   ]
  },
  {
   "cell_type": "code",
   "execution_count": 303,
   "metadata": {},
   "outputs": [
    {
     "name": "stdout",
     "output_type": "stream",
     "text": [
      "<class 'pandas.core.frame.DataFrame'>\n",
      "Int64Index: 720 entries, 0 to 719\n",
      "Data columns (total 14 columns):\n",
      "BRAND           720 non-null object\n",
      "PRODUCT_NAME    720 non-null object\n",
      "COLOR           362 non-null object\n",
      "MEMORY          356 non-null float64\n",
      "STAR_RATING     720 non-null float64\n",
      "RATINGS         402 non-null float64\n",
      "REVIEWS         227 non-null float64\n",
      "RAM             317 non-null float64\n",
      "BATTERY_C       720 non-null float64\n",
      "SCREEN_SIZE     675 non-null float64\n",
      "WARRANTY        720 non-null float64\n",
      "OFFER_PRICE     720 non-null int32\n",
      "DISCOUNT        720 non-null object\n",
      "MRP             720 non-null int32\n",
      "dtypes: float64(8), int32(2), object(4)\n",
      "memory usage: 78.8+ KB\n"
     ]
    }
   ],
   "source": [
    "df.info()"
   ]
  },
  {
   "cell_type": "markdown",
   "metadata": {},
   "source": [
    "### Memory"
   ]
  },
  {
   "cell_type": "code",
   "execution_count": 304,
   "metadata": {},
   "outputs": [],
   "source": [
    "df['MEMORY']=df['MEMORY'].fillna(0)"
   ]
  },
  {
   "cell_type": "markdown",
   "metadata": {},
   "source": [
    "#### Observations:\n",
    "- We observe that some mobiles are not having Memory because for feature mobiles Memory will not present.\n",
    "\n",
    "- We can assume zero as memory rather than deleting the column"
   ]
  },
  {
   "cell_type": "code",
   "execution_count": null,
   "metadata": {},
   "outputs": [],
   "source": []
  },
  {
   "cell_type": "markdown",
   "metadata": {},
   "source": [
    "### RAM"
   ]
  },
  {
   "cell_type": "code",
   "execution_count": 305,
   "metadata": {},
   "outputs": [],
   "source": [
    "df['RAM']=df['RAM'].fillna(0)"
   ]
  },
  {
   "cell_type": "markdown",
   "metadata": {},
   "source": [
    "#### Observations:\n",
    "- We observe that some mobiles are not having RAM because for feature mobiles RAM will not present as like Memory.\n",
    "\n",
    "- We can assume zero for RAM rather than deleting the column"
   ]
  },
  {
   "cell_type": "code",
   "execution_count": null,
   "metadata": {},
   "outputs": [],
   "source": []
  },
  {
   "cell_type": "markdown",
   "metadata": {},
   "source": [
    "### RATINGS"
   ]
  },
  {
   "cell_type": "code",
   "execution_count": 306,
   "metadata": {},
   "outputs": [],
   "source": [
    "df['RATINGS']=df['RATINGS'].fillna(0)"
   ]
  },
  {
   "cell_type": "markdown",
   "metadata": {},
   "source": [
    "#### Observations:\n",
    "- Since some mobiles are not having ratings that means those were not rated yet.\n",
    "- We can assume zero rating rather than deleting the column"
   ]
  },
  {
   "cell_type": "code",
   "execution_count": null,
   "metadata": {},
   "outputs": [],
   "source": []
  },
  {
   "cell_type": "markdown",
   "metadata": {},
   "source": [
    "### REVIEWS"
   ]
  },
  {
   "cell_type": "code",
   "execution_count": 307,
   "metadata": {},
   "outputs": [],
   "source": [
    "df['REVIEWS']=df['REVIEWS'].fillna(0)"
   ]
  },
  {
   "cell_type": "markdown",
   "metadata": {},
   "source": [
    "#### Observations:\n",
    "- Since some mobiles are not having Reviews that means those were not reviewed yet.\n",
    "- We can assume zero reviews rather than deleting the column"
   ]
  },
  {
   "cell_type": "code",
   "execution_count": 308,
   "metadata": {},
   "outputs": [
    {
     "name": "stdout",
     "output_type": "stream",
     "text": [
      "<class 'pandas.core.frame.DataFrame'>\n",
      "Int64Index: 720 entries, 0 to 719\n",
      "Data columns (total 14 columns):\n",
      "BRAND           720 non-null object\n",
      "PRODUCT_NAME    720 non-null object\n",
      "COLOR           362 non-null object\n",
      "MEMORY          720 non-null float64\n",
      "STAR_RATING     720 non-null float64\n",
      "RATINGS         720 non-null float64\n",
      "REVIEWS         720 non-null float64\n",
      "RAM             720 non-null float64\n",
      "BATTERY_C       720 non-null float64\n",
      "SCREEN_SIZE     675 non-null float64\n",
      "WARRANTY        720 non-null float64\n",
      "OFFER_PRICE     720 non-null int32\n",
      "DISCOUNT        720 non-null object\n",
      "MRP             720 non-null int32\n",
      "dtypes: float64(8), int32(2), object(4)\n",
      "memory usage: 78.8+ KB\n"
     ]
    }
   ],
   "source": [
    "df.info()"
   ]
  },
  {
   "cell_type": "code",
   "execution_count": 309,
   "metadata": {},
   "outputs": [
    {
     "data": {
      "text/plain": [
       "count    675.000000\n",
       "mean       4.025985\n",
       "std        2.081404\n",
       "min        0.660000\n",
       "25%        1.800000\n",
       "50%        2.800000\n",
       "75%        6.220000\n",
       "max        6.700000\n",
       "Name: SCREEN_SIZE, dtype: float64"
      ]
     },
     "execution_count": 309,
     "metadata": {},
     "output_type": "execute_result"
    }
   ],
   "source": [
    "df['SCREEN_SIZE'].describe()"
   ]
  },
  {
   "cell_type": "code",
   "execution_count": 310,
   "metadata": {},
   "outputs": [],
   "source": [
    "df['SCREEN_SIZE'].fillna(df.describe().loc['mean','SCREEN_SIZE'],inplace=True)\n"
   ]
  },
  {
   "cell_type": "code",
   "execution_count": 311,
   "metadata": {},
   "outputs": [
    {
     "name": "stdout",
     "output_type": "stream",
     "text": [
      "<class 'pandas.core.frame.DataFrame'>\n",
      "Int64Index: 720 entries, 0 to 719\n",
      "Data columns (total 14 columns):\n",
      "BRAND           720 non-null object\n",
      "PRODUCT_NAME    720 non-null object\n",
      "COLOR           362 non-null object\n",
      "MEMORY          720 non-null float64\n",
      "STAR_RATING     720 non-null float64\n",
      "RATINGS         720 non-null float64\n",
      "REVIEWS         720 non-null float64\n",
      "RAM             720 non-null float64\n",
      "BATTERY_C       720 non-null float64\n",
      "SCREEN_SIZE     720 non-null float64\n",
      "WARRANTY        720 non-null float64\n",
      "OFFER_PRICE     720 non-null int32\n",
      "DISCOUNT        720 non-null object\n",
      "MRP             720 non-null int32\n",
      "dtypes: float64(8), int32(2), object(4)\n",
      "memory usage: 78.8+ KB\n"
     ]
    }
   ],
   "source": [
    "df.info()"
   ]
  },
  {
   "cell_type": "code",
   "execution_count": 312,
   "metadata": {},
   "outputs": [],
   "source": [
    "df['COLOR']=df['COLOR'].fillna('No Color')"
   ]
  },
  {
   "cell_type": "code",
   "execution_count": 313,
   "metadata": {},
   "outputs": [
    {
     "name": "stdout",
     "output_type": "stream",
     "text": [
      "<class 'pandas.core.frame.DataFrame'>\n",
      "Int64Index: 720 entries, 0 to 719\n",
      "Data columns (total 14 columns):\n",
      "BRAND           720 non-null object\n",
      "PRODUCT_NAME    720 non-null object\n",
      "COLOR           720 non-null object\n",
      "MEMORY          720 non-null float64\n",
      "STAR_RATING     720 non-null float64\n",
      "RATINGS         720 non-null float64\n",
      "REVIEWS         720 non-null float64\n",
      "RAM             720 non-null float64\n",
      "BATTERY_C       720 non-null float64\n",
      "SCREEN_SIZE     720 non-null float64\n",
      "WARRANTY        720 non-null float64\n",
      "OFFER_PRICE     720 non-null int32\n",
      "DISCOUNT        720 non-null object\n",
      "MRP             720 non-null int32\n",
      "dtypes: float64(8), int32(2), object(4)\n",
      "memory usage: 78.8+ KB\n"
     ]
    }
   ],
   "source": [
    "df.info()"
   ]
  },
  {
   "cell_type": "code",
   "execution_count": 314,
   "metadata": {},
   "outputs": [],
   "source": [
    "df['MEMORY']=df['MEMORY'].astype(int)"
   ]
  },
  {
   "cell_type": "code",
   "execution_count": 315,
   "metadata": {},
   "outputs": [],
   "source": [
    "df['REVIEWS']=df['REVIEWS'].astype(int)"
   ]
  },
  {
   "cell_type": "code",
   "execution_count": 316,
   "metadata": {},
   "outputs": [],
   "source": [
    "df['RATINGS']=df['RATINGS'].astype(int)"
   ]
  },
  {
   "cell_type": "code",
   "execution_count": 317,
   "metadata": {},
   "outputs": [],
   "source": [
    "df.to_csv('Fmobiles_clean.csv')"
   ]
  },
  {
   "cell_type": "code",
   "execution_count": null,
   "metadata": {},
   "outputs": [],
   "source": []
  }
 ],
 "metadata": {
  "kernelspec": {
   "display_name": "Python 3",
   "language": "python",
   "name": "python3"
  },
  "language_info": {
   "codemirror_mode": {
    "name": "ipython",
    "version": 3
   },
   "file_extension": ".py",
   "mimetype": "text/x-python",
   "name": "python",
   "nbconvert_exporter": "python",
   "pygments_lexer": "ipython3",
   "version": "3.6.10"
  }
 },
 "nbformat": 4,
 "nbformat_minor": 2
}
