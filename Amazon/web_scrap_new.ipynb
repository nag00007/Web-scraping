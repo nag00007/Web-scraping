{
 "cells": [
  {
   "cell_type": "code",
   "execution_count": 1,
   "id": "e0d18746",
   "metadata": {},
   "outputs": [],
   "source": [
    "import warnings\n",
    "warnings.filterwarnings('ignore')\n",
    "import numpy as np\n",
    "import pandas as pd\n",
    "import matplotlib.pyplot as plt\n",
    "import seaborn as sns\n",
    "import requests\n",
    "from bs4 import BeautifulSoup\n",
    "import re\n",
    "import time\n",
    "from IPython.core.interactiveshell import InteractiveShell\n",
    "InteractiveShell.ast_node_interactivity = 'all'"
   ]
  },
  {
   "cell_type": "code",
   "execution_count": 91,
   "id": "8571a358",
   "metadata": {},
   "outputs": [],
   "source": [
    "productname = [] \n",
    "price = []\n",
    "rating = []\n",
    "delivery = []\n",
    "pagenum = []\n",
    "savings = []\n",
    "for i in range(1,100):\n",
    "\n",
    "    headers = {\n",
    "        'dnt': '1',\n",
    "        'upgrade-insecure-requests': '1',\n",
    "        \"User-Agent\": \"Mozilla/5.0 (Windows NT 10.0; Win64; x64) AppleWebKit/537.36 (KHTML, like Gecko) Chrome/98.0.4758.80 Safari/537.36 Edg/98.0.1108.43\",\n",
    "        'accept': 'text/html,application/xhtml+xml,application/xml;q=0.9,image/webp,image/apng,*/*;q=0.8,application/signed-exchange;v=b3;q=0.9',\n",
    "        'sec-fetch-site': 'same-origin',\n",
    "        'sec-fetch-mode': 'navigate',\n",
    "        'sec-fetch-user': '?1',\n",
    "        'sec-fetch-dest': 'document',\n",
    "        'referer': 'https://www.amazon.com/',\n",
    "        'accept-language': 'en-GB,en-US;q=0.9,en;q=0.8',\n",
    "    }\n",
    "    url=\"https://www.amazon.in/s?k=laptops&page=\"+str(i)\n",
    "    \n",
    "    r = requests.get(url, headers=headers)\n",
    "    content = r.content\n",
    "    soup = BeautifulSoup(content,'lxml')\n",
    "    for x in soup.find_all('div', attrs={'class': \"s-card-container s-overflow-hidden aok-relative s-include-content-margin s-latency-cf-section s-card-border\"}):\n",
    "        prodname=x.find('span', attrs={'class':\"a-size-medium a-color-base a-text-normal\"})\n",
    "        cost=x.find('span', attrs={'class':'a-price-whole'})\n",
    "        rat=x.find('span', attrs={'class':'a-icon-alt'})\n",
    "        deli=x.find('span',attrs={'class': 'a-color-base a-text-bold'})\n",
    "        savi=x.find('div',attrs= {'class': \"a-row a-size-base a-color-base\"})\n",
    "        if prodname is None:\n",
    "            productname.append(np.NaN)\n",
    "        else:\n",
    "            productname.append(prodname.text)\n",
    "        if cost is None:\n",
    "            price.append(np.NaN)\n",
    "        else:\n",
    "            price.append(cost.text)\n",
    "        if rat is None:\n",
    "            rating.append(np.NaN)\n",
    "        else:\n",
    "            rating.append(rat.text)\n",
    "        if deli is None:\n",
    "            delivery.append(np.NaN)\n",
    "        else:\n",
    "            delivery.append(deli.text)\n",
    "        if savi is not None:\n",
    "            savings.append(savi.text)\n",
    "        else:\n",
    "            savings.append(np.NaN)\n"
   ]
  },
  {
   "cell_type": "code",
   "execution_count": 92,
   "id": "579ae251",
   "metadata": {
    "scrolled": true
   },
   "outputs": [
    {
     "data": {
      "text/plain": [
       "900"
      ]
     },
     "execution_count": 92,
     "metadata": {},
     "output_type": "execute_result"
    },
    {
     "data": {
      "text/plain": [
       "900"
      ]
     },
     "execution_count": 92,
     "metadata": {},
     "output_type": "execute_result"
    },
    {
     "data": {
      "text/plain": [
       "900"
      ]
     },
     "execution_count": 92,
     "metadata": {},
     "output_type": "execute_result"
    },
    {
     "data": {
      "text/plain": [
       "900"
      ]
     },
     "execution_count": 92,
     "metadata": {},
     "output_type": "execute_result"
    },
    {
     "data": {
      "text/plain": [
       "900"
      ]
     },
     "execution_count": 92,
     "metadata": {},
     "output_type": "execute_result"
    }
   ],
   "source": [
    "len(productname)\n",
    "len(price)\n",
    "len(rating)\n",
    "len(delivery)\n",
    "len(savings)"
   ]
  },
  {
   "cell_type": "code",
   "execution_count": 93,
   "id": "a235c9b7",
   "metadata": {},
   "outputs": [],
   "source": [
    "df=pd.DataFrame()\n",
    "df['Productname']=productname\n",
    "df['price']=price\n",
    "df['Ratinf']=rating\n",
    "df['Delivery']=delivery\n",
    "df['Savings']=savings"
   ]
  },
  {
   "cell_type": "code",
   "execution_count": 94,
   "id": "cc728de2",
   "metadata": {},
   "outputs": [
    {
     "data": {
      "text/html": [
       "<div>\n",
       "<style scoped>\n",
       "    .dataframe tbody tr th:only-of-type {\n",
       "        vertical-align: middle;\n",
       "    }\n",
       "\n",
       "    .dataframe tbody tr th {\n",
       "        vertical-align: top;\n",
       "    }\n",
       "\n",
       "    .dataframe thead th {\n",
       "        text-align: right;\n",
       "    }\n",
       "</style>\n",
       "<table border=\"1\" class=\"dataframe\">\n",
       "  <thead>\n",
       "    <tr style=\"text-align: right;\">\n",
       "      <th></th>\n",
       "      <th>Productname</th>\n",
       "      <th>price</th>\n",
       "      <th>Ratinf</th>\n",
       "      <th>Delivery</th>\n",
       "      <th>Savings</th>\n",
       "    </tr>\n",
       "  </thead>\n",
       "  <tbody>\n",
       "    <tr>\n",
       "      <th>0</th>\n",
       "      <td>HP 14s 11th Gen Intel Core i3- 8GB RAM/256GB S...</td>\n",
       "      <td>42,490</td>\n",
       "      <td>4.2 out of 5 stars</td>\n",
       "      <td>Tomorrow, February 15</td>\n",
       "      <td>₹42,490₹42,490 ₹55,562₹55,562  Save ₹13,072 (24%)</td>\n",
       "    </tr>\n",
       "    <tr>\n",
       "      <th>1</th>\n",
       "      <td>Lenovo Ideapad 3 AMD Ryzen 5 5500U 15.6\" FHD T...</td>\n",
       "      <td>49,990</td>\n",
       "      <td>4.2 out of 5 stars</td>\n",
       "      <td>Tomorrow, February 15</td>\n",
       "      <td>₹49,990₹49,990 ₹68,990₹68,990  Save ₹19,000 (28%)</td>\n",
       "    </tr>\n",
       "    <tr>\n",
       "      <th>2</th>\n",
       "      <td>HP 11th Gen Intel Core i3 15.6 inch(39.6 cms) ...</td>\n",
       "      <td>39,490</td>\n",
       "      <td>3.3 out of 5 stars</td>\n",
       "      <td>Tomorrow, February 15</td>\n",
       "      <td>₹39,490₹39,490 ₹45,515₹45,515  Save ₹6,025 (13%)</td>\n",
       "    </tr>\n",
       "    <tr>\n",
       "      <th>3</th>\n",
       "      <td>Lenovo IdeaPad 3 11th Gen Intel Core i5 14\" FH...</td>\n",
       "      <td>60,990</td>\n",
       "      <td>4.2 out of 5 stars</td>\n",
       "      <td>Tomorrow, February 15</td>\n",
       "      <td>₹60,990₹60,990 ₹91,890₹91,890  Save ₹30,900 (34%)</td>\n",
       "    </tr>\n",
       "    <tr>\n",
       "      <th>4</th>\n",
       "      <td>Lenovo Chromebook 14e 14.0\" FHD Business Lapto...</td>\n",
       "      <td>20,990</td>\n",
       "      <td>3.4 out of 5 stars</td>\n",
       "      <td>Tomorrow, February 15</td>\n",
       "      <td>₹20,990₹20,990 ₹60,000₹60,000  Save ₹39,010 (65%)</td>\n",
       "    </tr>\n",
       "    <tr>\n",
       "      <th>...</th>\n",
       "      <td>...</td>\n",
       "      <td>...</td>\n",
       "      <td>...</td>\n",
       "      <td>...</td>\n",
       "      <td>...</td>\n",
       "    </tr>\n",
       "    <tr>\n",
       "      <th>895</th>\n",
       "      <td>HP Chromebook 14 Intel Celeron N4020-4GB SDRAM...</td>\n",
       "      <td>27,390</td>\n",
       "      <td>3.8 out of 5 stars</td>\n",
       "      <td>Tomorrow, February 15</td>\n",
       "      <td>₹27,390₹27,390 ₹29,741.50₹29,741.50  Save ₹2,3...</td>\n",
       "    </tr>\n",
       "    <tr>\n",
       "      <th>896</th>\n",
       "      <td>HP Victus AMD Ryzen 5 5600H 16.1 inches FHD Ga...</td>\n",
       "      <td>59,990</td>\n",
       "      <td>4.4 out of 5 stars</td>\n",
       "      <td>Tomorrow, February 15</td>\n",
       "      <td>₹59,990₹59,990 ₹73,682₹73,682  Save ₹13,692 (19%)</td>\n",
       "    </tr>\n",
       "    <tr>\n",
       "      <th>897</th>\n",
       "      <td>Acer Aspire 5 A514-54 Thin and Light Laptop | ...</td>\n",
       "      <td>46,990</td>\n",
       "      <td>4.1 out of 5 stars</td>\n",
       "      <td>Tomorrow, February 15</td>\n",
       "      <td>₹46,990₹46,990 ₹66,999₹66,999  Save ₹20,009 (30%)</td>\n",
       "    </tr>\n",
       "    <tr>\n",
       "      <th>898</th>\n",
       "      <td>HP 15 Ryzen 3 3250U- 8GB RAM/256GB SSD Thin &amp; ...</td>\n",
       "      <td>39,490</td>\n",
       "      <td>4.2 out of 5 stars</td>\n",
       "      <td>Tomorrow, February 15</td>\n",
       "      <td>₹39,490₹39,490 ₹46,055₹46,055  Save ₹6,565 (14%)</td>\n",
       "    </tr>\n",
       "    <tr>\n",
       "      <th>899</th>\n",
       "      <td>Acer Swift 3 SF314-511 Intel EVO Thin and Ligh...</td>\n",
       "      <td>60,990</td>\n",
       "      <td>4.8 out of 5 stars</td>\n",
       "      <td>Tomorrow, February 15</td>\n",
       "      <td>₹60,990₹60,990 ₹89,999₹89,999  Save ₹29,009 (32%)</td>\n",
       "    </tr>\n",
       "  </tbody>\n",
       "</table>\n",
       "<p>900 rows × 5 columns</p>\n",
       "</div>"
      ],
      "text/plain": [
       "                                           Productname   price  \\\n",
       "0    HP 14s 11th Gen Intel Core i3- 8GB RAM/256GB S...  42,490   \n",
       "1    Lenovo Ideapad 3 AMD Ryzen 5 5500U 15.6\" FHD T...  49,990   \n",
       "2    HP 11th Gen Intel Core i3 15.6 inch(39.6 cms) ...  39,490   \n",
       "3    Lenovo IdeaPad 3 11th Gen Intel Core i5 14\" FH...  60,990   \n",
       "4    Lenovo Chromebook 14e 14.0\" FHD Business Lapto...  20,990   \n",
       "..                                                 ...     ...   \n",
       "895  HP Chromebook 14 Intel Celeron N4020-4GB SDRAM...  27,390   \n",
       "896  HP Victus AMD Ryzen 5 5600H 16.1 inches FHD Ga...  59,990   \n",
       "897  Acer Aspire 5 A514-54 Thin and Light Laptop | ...  46,990   \n",
       "898  HP 15 Ryzen 3 3250U- 8GB RAM/256GB SSD Thin & ...  39,490   \n",
       "899  Acer Swift 3 SF314-511 Intel EVO Thin and Ligh...  60,990   \n",
       "\n",
       "                 Ratinf               Delivery  \\\n",
       "0    4.2 out of 5 stars  Tomorrow, February 15   \n",
       "1    4.2 out of 5 stars  Tomorrow, February 15   \n",
       "2    3.3 out of 5 stars  Tomorrow, February 15   \n",
       "3    4.2 out of 5 stars  Tomorrow, February 15   \n",
       "4    3.4 out of 5 stars  Tomorrow, February 15   \n",
       "..                  ...                    ...   \n",
       "895  3.8 out of 5 stars  Tomorrow, February 15   \n",
       "896  4.4 out of 5 stars  Tomorrow, February 15   \n",
       "897  4.1 out of 5 stars  Tomorrow, February 15   \n",
       "898  4.2 out of 5 stars  Tomorrow, February 15   \n",
       "899  4.8 out of 5 stars  Tomorrow, February 15   \n",
       "\n",
       "                                               Savings  \n",
       "0    ₹42,490₹42,490 ₹55,562₹55,562  Save ₹13,072 (24%)  \n",
       "1    ₹49,990₹49,990 ₹68,990₹68,990  Save ₹19,000 (28%)  \n",
       "2     ₹39,490₹39,490 ₹45,515₹45,515  Save ₹6,025 (13%)  \n",
       "3    ₹60,990₹60,990 ₹91,890₹91,890  Save ₹30,900 (34%)  \n",
       "4    ₹20,990₹20,990 ₹60,000₹60,000  Save ₹39,010 (65%)  \n",
       "..                                                 ...  \n",
       "895  ₹27,390₹27,390 ₹29,741.50₹29,741.50  Save ₹2,3...  \n",
       "896  ₹59,990₹59,990 ₹73,682₹73,682  Save ₹13,692 (19%)  \n",
       "897  ₹46,990₹46,990 ₹66,999₹66,999  Save ₹20,009 (30%)  \n",
       "898   ₹39,490₹39,490 ₹46,055₹46,055  Save ₹6,565 (14%)  \n",
       "899  ₹60,990₹60,990 ₹89,999₹89,999  Save ₹29,009 (32%)  \n",
       "\n",
       "[900 rows x 5 columns]"
      ]
     },
     "execution_count": 94,
     "metadata": {},
     "output_type": "execute_result"
    }
   ],
   "source": [
    "df"
   ]
  },
  {
   "cell_type": "code",
   "execution_count": 85,
   "id": "28e51002",
   "metadata": {},
   "outputs": [],
   "source": [
    "df.to_csv(\"sc_data.csv\",index=False)"
   ]
  },
  {
   "cell_type": "code",
   "execution_count": null,
   "id": "2e56b213",
   "metadata": {},
   "outputs": [],
   "source": []
  }
 ],
 "metadata": {
  "kernelspec": {
   "display_name": "Python 3",
   "language": "python",
   "name": "python3"
  },
  "language_info": {
   "codemirror_mode": {
    "name": "ipython",
    "version": 3
   },
   "file_extension": ".py",
   "mimetype": "text/x-python",
   "name": "python",
   "nbconvert_exporter": "python",
   "pygments_lexer": "ipython3",
   "version": "3.8.8"
  }
 },
 "nbformat": 4,
 "nbformat_minor": 5
}
